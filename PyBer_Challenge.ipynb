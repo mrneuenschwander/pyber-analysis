{
 "cells": [
  {
   "cell_type": "markdown",
   "metadata": {},
   "source": [
    "# Pyber Challenge"
   ]
  },
  {
   "cell_type": "markdown",
   "metadata": {},
   "source": [
    "### 4.3 Loading and Reading CSV files"
   ]
  },
  {
   "cell_type": "code",
   "execution_count": null,
   "metadata": {},
   "outputs": [],
   "source": [
    "# Add Matplotlib inline magic command\n",
    "%matplotlib inline\n",
    "# Dependencies and Setup\n",
    "import matplotlib.pyplot as plt\n",
    "import pandas as pd\n",
    "import os\n",
    "\n",
    "# File to Load\n",
    "city_data = \"resources/city_data.csv\"\n",
    "ride_data = \"resources/ride_data.csv\"\n",
    "\n",
    "# Read the City and Ride Data\n",
    "city_data_df = pd.read_csv(city_data)\n",
    "ride_data_df = pd.read_csv(ride_data)"
   ]
  },
  {
   "cell_type": "markdown",
   "metadata": {},
   "source": [
    "### Merge the DataFrames"
   ]
  },
  {
   "cell_type": "code",
   "execution_count": null,
   "metadata": {
    "scrolled": true
   },
   "outputs": [],
   "source": [
    "# Combine the data into a single dataset\n",
    "pyber_data_df = pd.merge(ride_data_df, city_data_df, how=\"left\", on=[\"city\", \"city\"])\n",
    "\n",
    "# Display the data table for preview\n",
    "pyber_data_df.head()"
   ]
  },
  {
   "cell_type": "markdown",
   "metadata": {},
   "source": [
    "## Deliverable 1: Get a Summary DataFrame "
   ]
  },
  {
   "cell_type": "code",
   "execution_count": null,
   "metadata": {},
   "outputs": [],
   "source": [
    "#  1. Get the total rides for each city type\n",
    "urban_cities_df = pyber_data_df[pyber_data_df[\"type\"] == \"Urban\"]\n",
    "suburban_cities_df = pyber_data_df[pyber_data_df[\"type\"] == \"Suburban\"]\n",
    "rural_cities_df = pyber_data_df[pyber_data_df[\"type\"] == \"Rural\"]"
   ]
  },
  {
   "cell_type": "code",
   "execution_count": null,
   "metadata": {},
   "outputs": [],
   "source": [
    "urban_ride_count = urban_cities_df.groupby([\"city\"]).count()[\"ride_id\"]\n",
    "suburban_ride_count = suburban_cities_df.groupby([\"city\"]).count()[\"ride_id\"]\n",
    "rural_ride_count = rural_cities_df.groupby([\"city\"]).count()[\"ride_id\"]"
   ]
  },
  {
   "cell_type": "code",
   "execution_count": null,
   "metadata": {},
   "outputs": [],
   "source": [
    "rural_driver_count = rural_cities_df.groupby([\"city\"]).mean()[\"driver_count\"]\n",
    "rural_drivers = rural_driver_count.sum()\n",
    "suburban_driver_count = suburban_cities_df.groupby([\"city\"]).mean()[\"driver_count\"]\n",
    "suburban_drivers = suburban_driver_count.sum()\n",
    "urban_driver_count = urban_cities_df.groupby([\"city\"]).mean()[\"driver_count\"]\n",
    "urban_drivers = urban_driver_count.sum()\n"
   ]
  },
  {
   "cell_type": "code",
   "execution_count": null,
   "metadata": {},
   "outputs": [],
   "source": [
    "rides_by_type = pyber_data_df.groupby(['type']).count()['ride_id']\n",
    "rides_by_type_df = pd.DataFrame()\n",
    "rides_by_type_df['ride_id'] = rides_by_type\n",
    "rides_by_type_df"
   ]
  },
  {
   "cell_type": "code",
   "execution_count": null,
   "metadata": {},
   "outputs": [],
   "source": [
    "driver_count_type_df = pd.DataFrame()"
   ]
  },
  {
   "cell_type": "code",
   "execution_count": null,
   "metadata": {},
   "outputs": [],
   "source": [
    "city_types = [\"Rural\", \"Suburban\", \"Urban\"]\n",
    "drivers_count = [rural_drivers, suburban_drivers, urban_drivers]"
   ]
  },
  {
   "cell_type": "code",
   "execution_count": null,
   "metadata": {},
   "outputs": [],
   "source": [
    "# 2. Get the total drivers for each city type\n",
    "\n",
    "driver_count_type_df['driver_count'] = drivers_count\n",
    "driver_count_type_df.index = city_types\n",
    "\n",
    "driver_count_type_df"
   ]
  },
  {
   "cell_type": "code",
   "execution_count": null,
   "metadata": {},
   "outputs": [],
   "source": [
    "#  3. Get the total amount of fares for each city type\n",
    "total_fares_by_type = pyber_data_df.groupby(['type']).sum()['fare']\n",
    "total_fares_by_type_df = pd.DataFrame()\n",
    "total_fares_by_type_df['Total Fares by Type'] = total_fares_by_type\n",
    "total_fares_by_type_df"
   ]
  },
  {
   "cell_type": "code",
   "execution_count": null,
   "metadata": {},
   "outputs": [],
   "source": [
    "#  4. Get the average fare per ride for each city type. \n",
    "average_fares_by_type = pyber_data_df.groupby(['type']).mean()['fare']\n",
    "average_fares_by_type_df = pd.DataFrame()\n",
    "average_fares_by_type_df['Average Fare per Ride'] = average_fares_by_type\n",
    "average_fares_by_type_df"
   ]
  },
  {
   "cell_type": "code",
   "execution_count": null,
   "metadata": {},
   "outputs": [],
   "source": [
    "# 5. Get the average fare per driver for each city type. \n",
    "average_fares_by_driver = pyber_data_df.groupby(['type']).sum()['fare'] / driver_count_type_df['driver_count']\n",
    "average_fares_by_driver_df = pd.DataFrame()\n",
    "average_fares_by_driver_df['Average Fares per Driver'] = average_fares_by_driver\n",
    "average_fares_by_driver_df"
   ]
  },
  {
   "cell_type": "code",
   "execution_count": null,
   "metadata": {},
   "outputs": [],
   "source": [
    "#  6. Create a PyBer summary DataFrame. \n",
    "pyber_summary_df = pd.DataFrame()\n",
    "pyber_summary_df['Total Rides'] = rides_by_type\n",
    "pyber_summary_df['Total Drivers'] = driver_count_type_df\n",
    "pyber_summary_df['Total Fares'] = total_fares_by_type_df\n",
    "pyber_summary_df['Average Fare per Ride'] = average_fares_by_type_df\n",
    "pyber_summary_df['Average Fare per Driver'] = average_fares_by_driver_df\n",
    "\n",
    "pyber_summary_df"
   ]
  },
  {
   "cell_type": "code",
   "execution_count": null,
   "metadata": {},
   "outputs": [],
   "source": [
    "#  7. Cleaning up the DataFrame. Delete the index name\n",
    "pyber_summary_df.index.name = None"
   ]
  },
  {
   "cell_type": "code",
   "execution_count": null,
   "metadata": {},
   "outputs": [],
   "source": [
    "#  8. Format the columns.\n",
    "rides_by_type_df = rides_by_type_df['ride_id'].map(\"{:,}\".format)\n",
    "driver_count_type_df = driver_count_type_df['driver_count'].astype(int).map(\"{:,}\".format)\n",
    "total_fares_by_type_df = total_fares_by_type_df['Total Fares by Type'].map(\"${:,.2f}\".format)\n",
    "average_fares_by_type_df = average_fares_by_type_df['Average Fare per Ride'].map(\"${:,.2f}\".format)\n",
    "average_fares_by_driver_df = average_fares_by_driver_df['Average Fares per Driver'].map(\"${:,.2f}\".format)\n",
    "\n",
    "pyber_summary_df['Total Rides'] = rides_by_type_df\n",
    "pyber_summary_df['Total Drivers'] = driver_count_type_df\n",
    "pyber_summary_df['Total Fares'] = total_fares_by_type_df\n",
    "pyber_summary_df['Average Fare per Ride'] = average_fares_by_type_df\n",
    "pyber_summary_df['Average Fare per Driver'] = average_fares_by_driver_df\n",
    "\n",
    "pyber_summary_df"
   ]
  },
  {
   "cell_type": "markdown",
   "metadata": {},
   "source": [
    "## Deliverable 2.  Create a multiple line plot that shows the total weekly of the fares for each type of city."
   ]
  },
  {
   "cell_type": "code",
   "execution_count": null,
   "metadata": {},
   "outputs": [],
   "source": [
    "# 1. Read the merged DataFrame\n",
    "pyber_data_df.head()"
   ]
  },
  {
   "cell_type": "code",
   "execution_count": null,
   "metadata": {},
   "outputs": [],
   "source": [
    "# 2. Using groupby() to create a new DataFrame showing the sum of the fares \n",
    "#  for each date where the indices are the city type and date.\n",
    "pyber_graph = pyber_data_df.groupby(['date', 'type']).sum()['fare']\n",
    "pyber_graph_df = pd.DataFrame()\n",
    "pyber_graph_df = pyber_graph\n",
    "pyber_graph_df"
   ]
  },
  {
   "cell_type": "code",
   "execution_count": null,
   "metadata": {},
   "outputs": [],
   "source": [
    "# 3. Reset the index on the DataFrame you created in #1. This is needed to use the 'pivot()' function.\n",
    "pyber_graph_df = pyber_graph_df.reset_index()\n",
    "pyber_graph_df"
   ]
  },
  {
   "cell_type": "code",
   "execution_count": null,
   "metadata": {},
   "outputs": [],
   "source": [
    "# 4. Create a pivot table with the 'date' as the index, the columns ='type', and values='fare' \n",
    "# to get the total fares for each type of city by the date. \n",
    "pyber_pivot_df = pd.DataFrame(\n",
    "    pyber_graph_df.pivot(index= 'date', columns= 'type', values= 'fare')\n",
    ")\n",
    "pyber_pivot_df"
   ]
  },
  {
   "cell_type": "code",
   "execution_count": null,
   "metadata": {},
   "outputs": [],
   "source": [
    "# 5. Create a new DataFrame from the pivot table DataFrame using loc on the given dates, '2019-01-01':'2019-04-29'.\n",
    "pyber_chart = pyber_pivot_df.loc['2019-01-01':'2019-04-28']\n",
    "pyber_chart_df = pd.DataFrame()\n",
    "pyber_chart_df = pyber_chart\n",
    "pyber_chart_df\n"
   ]
  },
  {
   "cell_type": "code",
   "execution_count": null,
   "metadata": {},
   "outputs": [],
   "source": [
    "# 6. Set the \"date\" index to datetime datatype. This is necessary to use the resample() method in Step 8.\n",
    "pyber_chart_df.index = pd.to_datetime(pyber_chart_df.index)\n",
    "pyber_chart_df"
   ]
  },
  {
   "cell_type": "code",
   "execution_count": null,
   "metadata": {},
   "outputs": [],
   "source": [
    "# 7. Check that the datatype for the index is datetime using df.info()\n",
    "pyber_chart_df.info()"
   ]
  },
  {
   "cell_type": "code",
   "execution_count": null,
   "metadata": {},
   "outputs": [],
   "source": [
    "# 8. Create a new DataFrame using the \"resample()\" function by week 'W' and get the sum of the fares for each week.\n",
    "pyber_plot = pyber_chart_df.resample('w').sum()\n",
    "pyber_plot_df = pd.DataFrame()\n",
    "pyber_plot_df = pyber_plot\n",
    "pyber_plot_df\n"
   ]
  },
  {
   "cell_type": "code",
   "execution_count": null,
   "metadata": {},
   "outputs": [],
   "source": [
    "# 8. Using the object-oriented interface method, plot the resample DataFrame using the df.plot() function. \n",
    "# Import the style from Matplotlib.\n",
    "from matplotlib import style\n",
    "# Use the graph style fivethirtyeight.\n",
    "pyber_plot_df.plot(figsize= (20,6))\n",
    "style.use('fivethirtyeight')\n",
    "plt.ylabel('Fare($USD)')\n",
    "plt.xlabel('')\n",
    "plt.title('Total Fare by City Type')\n",
    "plt.savefig(os.path.join('figures', 'Pyber_fare_summary.png'))\n",
    "plt.show()\n"
   ]
  },
  {
   "cell_type": "code",
   "execution_count": null,
   "metadata": {},
   "outputs": [],
   "source": []
  }
 ],
 "metadata": {
  "anaconda-cloud": {},
  "kernelspec": {
   "display_name": "Python 3.9.13 ('base')",
   "language": "python",
   "name": "python3"
  },
  "language_info": {
   "codemirror_mode": {
    "name": "ipython",
    "version": 3
   },
   "file_extension": ".py",
   "mimetype": "text/x-python",
   "name": "python",
   "nbconvert_exporter": "python",
   "pygments_lexer": "ipython3",
   "version": "3.9.13"
  },
  "vscode": {
   "interpreter": {
    "hash": "a9648e9d2d8886b2f8e63a922fdaab7697bc36486ac8d3e799ece2132d4ebdbb"
   }
  }
 },
 "nbformat": 4,
 "nbformat_minor": 2
}
